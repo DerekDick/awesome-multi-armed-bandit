{
 "cells": [
  {
   "cell_type": "markdown",
   "metadata": {},
   "source": [
    "# Three-armed bandit\n",
    "\n",
    "## Simulation parameters\n",
    "\n",
    "| $N$ | $\\theta_1$ | $\\theta_2$ | $\\theta_3$ |\n",
    "|------|------|-----|-----|\n",
    "| $10000$ | $0.4$ | $0.6$ | $0.8$ |\n",
    "\n",
    "## The oracle value\n",
    "\n",
    "For $N = 10000$, the theoretically maximized expectation of aggregated rewards over $N$ time slots is\n",
    "$$\\max \\mathbb{E} \\left[ \\sum\\limits_{t=1}^{N} r_{I(t)} \\right] = \\max \\sum\\limits_{t=1}^{N} \\theta_{I(t)} = N \\cdot \\theta_{I^*} = 10000 \\cdot 0.8 = 8000$$"
   ]
  },
  {
   "cell_type": "markdown",
   "metadata": {},
   "source": [
    "## Reward function"
   ]
  },
  {
   "cell_type": "code",
   "execution_count": 6,
   "metadata": {},
   "outputs": [
    {
     "name": "stdout",
     "output_type": "stream",
     "text": [
      "get_reward(0) returns -1\n",
      "get_reward(1) returns 1\n",
      "get_reward(2) returns 1\n",
      "get_reward(3) returns 1\n",
      "get_reward(4) returns -1\n",
      "get_reward(0.5) returns -1\n"
     ]
    }
   ],
   "source": [
    "from machine import get_reward\n",
    "\n",
    "for i in [0, 1, 2, 3, 4, 0.5]:\n",
    "    print('get_reward({}) returns {}'.format(i, get_reward(i)))"
   ]
  },
  {
   "cell_type": "code",
   "execution_count": null,
   "metadata": {},
   "outputs": [],
   "source": []
  }
 ],
 "metadata": {
  "kernelspec": {
   "display_name": "Python 3",
   "language": "python",
   "name": "python3"
  },
  "language_info": {
   "codemirror_mode": {
    "name": "ipython",
    "version": 3
   },
   "file_extension": ".py",
   "mimetype": "text/x-python",
   "name": "python",
   "nbconvert_exporter": "python",
   "pygments_lexer": "ipython3",
   "version": "3.7.5"
  }
 },
 "nbformat": 4,
 "nbformat_minor": 4
}
